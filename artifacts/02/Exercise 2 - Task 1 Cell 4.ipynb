%%spark

// Import libraries for the SQL Analytics connector
import com.microsoft.spark.sqlanalytics.utils.Constants
import org.apache.spark.sql.SqlAnalyticsConnector._
import org.apache.spark.sql.SaveMode

// Set target table name
var tableName = s"SQLPool01.wwi_staging.Sale"

// Write the retrieved sales data into a staging table in Azure Synapse Analytics.
sales.limit(10000).write.mode(SaveMode.Append).sqlanalytics(tableName, Constants.INTERNAL)
