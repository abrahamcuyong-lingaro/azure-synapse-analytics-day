%%spark

// Set the path to read the WWI Sales files
import org.apache.spark.sql.SparkSession

// Set the path to the ADLS Gen2 account
val adlsPath = "abfss://dev@YOUR_DATALAKE_NAME.dfs.core.windows.net"