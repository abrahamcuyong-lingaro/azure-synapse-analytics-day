%%spark

// Read the sales into a dataframe
val sales = spark.read.format("csv").option("header", "true").option("inferSchema", "true").option("sep", "|").load(s"$adlsPath/wwi-factsale.csv")
sales.show(5)
sales.printSchema()
