data_path = spark.read.load(
   'abfss://dev@YOUR_DATALAKE_NAME.dfs.core.windows.net/dev/wwi-factsale.csv',
   format='csv',
   sep="|",
   header=True)

display(data_path.limit(100))